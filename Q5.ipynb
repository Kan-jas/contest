{
 "cells": [
  {
   "cell_type": "code",
   "execution_count": null,
   "source": [
    "# コード\r\n",
    "a, b, c, x = map(int, [input() for i in range(4)])\r\n",
    "ans = 0\r\n",
    "for i in range(a+1):\r\n",
    "  for j in range(b+1):\r\n",
    "    for k in range(c+1):\r\n",
    "      if i * 500 + j * 100 + k * 50 == x:\r\n",
    "        ans += 1\r\n",
    "print(ans)"
   ],
   "outputs": [],
   "metadata": {}
  }
 ],
 "metadata": {
  "orig_nbformat": 4,
  "language_info": {
   "name": "python"
  }
 },
 "nbformat": 4,
 "nbformat_minor": 2
}