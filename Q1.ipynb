{
 "cells": [
  {
   "cell_type": "code",
   "execution_count": null,
   "source": [
    "def ispalindrome(x):\r\n",
    "    return str(x) == str(x)[::-1]\r\n",
    "\r\n",
    "i =11\r\n",
    "while True:\r\n",
    "    if ispalindrome(i) and ispalindrome(format(i,'b')) and ispalindrome(format(i, 'o')):\r\n",
    "        break\r\n",
    "    i += 2\r\n",
    "print(i)"
   ],
   "outputs": [],
   "metadata": {}
  }
 ],
 "metadata": {
  "orig_nbformat": 4,
  "language_info": {
   "name": "python"
  }
 },
 "nbformat": 4,
 "nbformat_minor": 2
}