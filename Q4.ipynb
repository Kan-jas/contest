{
 "cells": [
  {
   "cell_type": "code",
   "execution_count": 3,
   "source": [
    "%whos\r\n",
    "del list\r\n",
    "\r\n",
    "コード\r\n",
    "n = input()\r\n",
    "a = list(map(int, input().split()))\r\n",
    "ans = float('inf')\r\n",
    "for i in a:\r\n",
    "  ans = min(ans, len(bin(i)) - bin(i).rfind('1') - 1)\r\n",
    "print(ans)\r\n",
    "\r\n",
    "\r\n",
    "# n = int(input())\r\n",
    "# number_list = list(map(int, input().split()))\r\n",
    "# count = 0\r\n",
    "# while count in range(0, n):\r\n",
    "#   for i in range(0, len(number_list)):\r\n",
    "#     print(\"周回数：\"+ str(count + 1))\r\n",
    "#     print(\"要素数：\"+ str(len(number_list)))\r\n",
    "#     print(number_list[i])\r\n",
    "#     number_list[i] /= 2\r\n",
    "#     print(number_list[i])\r\n",
    "#     if number_list[i] %2 != 0:\r\n",
    "#       print(str(count))\r\n",
    "#       break\r\n",
    "#     count += 1\r\n",
    "#   print(str(count))\r\n"
   ],
   "outputs": [
    {
     "output_type": "stream",
     "name": "stdout",
     "text": [
      "Variable   Type      Data/Info\n",
      "------------------------------\n",
      "os         module    <module 'os' from 'C:\\\\Us<...>\\\\anaconda3\\\\lib\\\\os.py'>\n",
      "sys        module    <module 'sys' (built-in)>\n"
     ]
    },
    {
     "output_type": "error",
     "ename": "NameError",
     "evalue": "name 'list' is not defined",
     "traceback": [
      "\u001b[1;31m---------------------------------------------------------------------------\u001b[0m",
      "\u001b[1;31mNameError\u001b[0m                                 Traceback (most recent call last)",
      "\u001b[1;32m<ipython-input-3-c2d1f381044a>\u001b[0m in \u001b[0;36m<module>\u001b[1;34m\u001b[0m\n\u001b[0;32m      1\u001b[0m \u001b[0mget_ipython\u001b[0m\u001b[1;33m(\u001b[0m\u001b[1;33m)\u001b[0m\u001b[1;33m.\u001b[0m\u001b[0mrun_line_magic\u001b[0m\u001b[1;33m(\u001b[0m\u001b[1;34m'whos'\u001b[0m\u001b[1;33m,\u001b[0m \u001b[1;34m''\u001b[0m\u001b[1;33m)\u001b[0m\u001b[1;33m\u001b[0m\u001b[1;33m\u001b[0m\u001b[0m\n\u001b[1;32m----> 2\u001b[1;33m \u001b[1;32mdel\u001b[0m \u001b[0mlist\u001b[0m\u001b[1;33m\u001b[0m\u001b[1;33m\u001b[0m\u001b[0m\n\u001b[0m\u001b[0;32m      3\u001b[0m \u001b[1;33m\u001b[0m\u001b[0m\n\u001b[0;32m      4\u001b[0m \u001b[0mコード\u001b[0m\u001b[1;33m\u001b[0m\u001b[1;33m\u001b[0m\u001b[0m\n\u001b[0;32m      5\u001b[0m \u001b[0mn\u001b[0m \u001b[1;33m=\u001b[0m \u001b[0minput\u001b[0m\u001b[1;33m(\u001b[0m\u001b[1;33m)\u001b[0m\u001b[1;33m\u001b[0m\u001b[1;33m\u001b[0m\u001b[0m\n",
      "\u001b[1;31mNameError\u001b[0m: name 'list' is not defined"
     ]
    }
   ],
   "metadata": {}
  },
  {
   "cell_type": "code",
   "execution_count": null,
   "source": [],
   "outputs": [],
   "metadata": {}
  }
 ],
 "metadata": {
  "orig_nbformat": 4,
  "language_info": {
   "name": "python",
   "version": "3.8.5",
   "mimetype": "text/x-python",
   "codemirror_mode": {
    "name": "ipython",
    "version": 3
   },
   "pygments_lexer": "ipython3",
   "nbconvert_exporter": "python",
   "file_extension": ".py"
  },
  "kernelspec": {
   "name": "python3",
   "display_name": "Python 3.8.5 64-bit ('base': conda)"
  },
  "interpreter": {
   "hash": "f163307a48c6da2527d0f4fcd2bceb776182eda5dc6ad28fd45e2424b257e8b3"
  }
 },
 "nbformat": 4,
 "nbformat_minor": 2
}