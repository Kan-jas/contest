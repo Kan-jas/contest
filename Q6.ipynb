{
 "cells": [
  {
   "cell_type": "code",
   "execution_count": 15,
   "source": [
    "# コード\r\n",
    "n = int(input())\r\n",
    "card_num = list(map(int, input().split()))\r\n",
    "\r\n",
    "alice = 0\r\n",
    "bob = 0\r\n",
    "ans = 0\r\n",
    "\r\n",
    "for i in range(n):\r\n",
    "  card_sort = sorted(card_num, reverse=True)\r\n",
    "  if i % 2 == 0:\r\n",
    "    alice += int(card_sort[i])\r\n",
    "  else:\r\n",
    "    bob += int(card_num[i])\r\n",
    "\r\n",
    "ans = alice - bob\r\n",
    "print(alice)\r\n",
    "print(bob)\r\n",
    "print(str(ans))\r\n"
   ],
   "outputs": [
    {
     "output_type": "stream",
     "name": "stdout",
     "text": [
      "38\n",
      "20\n",
      "18\n"
     ]
    }
   ],
   "metadata": {}
  }
 ],
 "metadata": {
  "orig_nbformat": 4,
  "language_info": {
   "name": "python",
   "version": "3.8.5",
   "mimetype": "text/x-python",
   "codemirror_mode": {
    "name": "ipython",
    "version": 3
   },
   "pygments_lexer": "ipython3",
   "nbconvert_exporter": "python",
   "file_extension": ".py"
  },
  "kernelspec": {
   "name": "python3",
   "display_name": "Python 3.8.5 64-bit ('base': conda)"
  },
  "interpreter": {
   "hash": "f163307a48c6da2527d0f4fcd2bceb776182eda5dc6ad28fd45e2424b257e8b3"
  }
 },
 "nbformat": 4,
 "nbformat_minor": 2
}